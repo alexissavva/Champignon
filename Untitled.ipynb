{
 "cells": [
  {
   "cell_type": "code",
   "execution_count": 43,
   "id": "c22f5e1b",
   "metadata": {},
   "outputs": [],
   "source": [
    "import numpy as np\n",
    "import pandas as pd\n",
    "from matplotlib import pyplot as plt\n",
    "from sklearn.model_selection import train_test_split\n",
    "from sklearn.neighbors import KNeighborsClassifier\n",
    "from sklearn.ensemble import RandomForestClassifier\n",
    "from sklearn.datasets import make_classification\n",
    "from sklearn.model_selection import train_test_split\n",
    "from sklearn.linear_model import LinearRegression\n",
    "df = pd.read_excel('final.xlsx');"
   ]
  },
  {
   "cell_type": "code",
   "execution_count": 44,
   "id": "4ac6d496",
   "metadata": {},
   "outputs": [
    {
     "data": {
      "text/plain": [
       "(7006, 23)"
      ]
     },
     "execution_count": 44,
     "metadata": {},
     "output_type": "execute_result"
    }
   ],
   "source": [
    "df.head(8)\n",
    "df.shape"
   ]
  },
  {
   "cell_type": "code",
   "execution_count": 45,
   "id": "93708abb",
   "metadata": {},
   "outputs": [
    {
     "data": {
      "text/html": [
       "<div>\n",
       "<style scoped>\n",
       "    .dataframe tbody tr th:only-of-type {\n",
       "        vertical-align: middle;\n",
       "    }\n",
       "\n",
       "    .dataframe tbody tr th {\n",
       "        vertical-align: top;\n",
       "    }\n",
       "\n",
       "    .dataframe thead th {\n",
       "        text-align: right;\n",
       "    }\n",
       "</style>\n",
       "<table border=\"1\" class=\"dataframe\">\n",
       "  <thead>\n",
       "    <tr style=\"text-align: right;\">\n",
       "      <th></th>\n",
       "      <th>class</th>\n",
       "      <th>cap-shape</th>\n",
       "      <th>cap-surface</th>\n",
       "      <th>cap-color</th>\n",
       "      <th>bruises</th>\n",
       "      <th>odor</th>\n",
       "      <th>gill-attachment</th>\n",
       "      <th>gill-spacing</th>\n",
       "      <th>gill-size</th>\n",
       "      <th>gill-color</th>\n",
       "      <th>...</th>\n",
       "      <th>stalk-surface-below-ring</th>\n",
       "      <th>stalk-color-above-ring</th>\n",
       "      <th>stalk-color-below-ring</th>\n",
       "      <th>veil-type</th>\n",
       "      <th>veil-color</th>\n",
       "      <th>ring-number</th>\n",
       "      <th>ring-type</th>\n",
       "      <th>spore-print-color</th>\n",
       "      <th>population</th>\n",
       "      <th>habitat</th>\n",
       "    </tr>\n",
       "  </thead>\n",
       "  <tbody>\n",
       "    <tr>\n",
       "      <th>count</th>\n",
       "      <td>7006.000000</td>\n",
       "      <td>7006.00000</td>\n",
       "      <td>7006.000000</td>\n",
       "      <td>7006.000000</td>\n",
       "      <td>7006.000000</td>\n",
       "      <td>7006.000000</td>\n",
       "      <td>7006.000000</td>\n",
       "      <td>7006.000000</td>\n",
       "      <td>7006.000000</td>\n",
       "      <td>7006.000000</td>\n",
       "      <td>...</td>\n",
       "      <td>7006.000000</td>\n",
       "      <td>7006.000000</td>\n",
       "      <td>7006.000000</td>\n",
       "      <td>7006.0</td>\n",
       "      <td>7006.000000</td>\n",
       "      <td>7006.000000</td>\n",
       "      <td>7006.000000</td>\n",
       "      <td>7006.000000</td>\n",
       "      <td>7006.000000</td>\n",
       "      <td>7006.000000</td>\n",
       "    </tr>\n",
       "    <tr>\n",
       "      <th>mean</th>\n",
       "      <td>8.299172</td>\n",
       "      <td>7.20197</td>\n",
       "      <td>6.126891</td>\n",
       "      <td>10.926777</td>\n",
       "      <td>2.242221</td>\n",
       "      <td>8.586069</td>\n",
       "      <td>1.507137</td>\n",
       "      <td>4.673994</td>\n",
       "      <td>7.841279</td>\n",
       "      <td>7.451470</td>\n",
       "      <td>...</td>\n",
       "      <td>6.000000</td>\n",
       "      <td>3.735084</td>\n",
       "      <td>3.822295</td>\n",
       "      <td>0.0</td>\n",
       "      <td>3.164145</td>\n",
       "      <td>6.802598</td>\n",
       "      <td>8.418213</td>\n",
       "      <td>9.328433</td>\n",
       "      <td>9.278618</td>\n",
       "      <td>12.830717</td>\n",
       "    </tr>\n",
       "    <tr>\n",
       "      <th>std</th>\n",
       "      <td>7.994975</td>\n",
       "      <td>5.28820</td>\n",
       "      <td>5.637620</td>\n",
       "      <td>4.159274</td>\n",
       "      <td>1.477789</td>\n",
       "      <td>6.213333</td>\n",
       "      <td>3.062638</td>\n",
       "      <td>0.738790</td>\n",
       "      <td>2.767392</td>\n",
       "      <td>5.886737</td>\n",
       "      <td>...</td>\n",
       "      <td>6.026399</td>\n",
       "      <td>3.525178</td>\n",
       "      <td>3.637966</td>\n",
       "      <td>0.0</td>\n",
       "      <td>1.102928</td>\n",
       "      <td>0.861252</td>\n",
       "      <td>8.326858</td>\n",
       "      <td>4.852592</td>\n",
       "      <td>4.202989</td>\n",
       "      <td>6.485444</td>\n",
       "    </tr>\n",
       "    <tr>\n",
       "      <th>min</th>\n",
       "      <td>0.000000</td>\n",
       "      <td>1.00000</td>\n",
       "      <td>1.000000</td>\n",
       "      <td>0.000000</td>\n",
       "      <td>1.000000</td>\n",
       "      <td>0.000000</td>\n",
       "      <td>1.000000</td>\n",
       "      <td>3.000000</td>\n",
       "      <td>6.000000</td>\n",
       "      <td>0.000000</td>\n",
       "      <td>...</td>\n",
       "      <td>1.000000</td>\n",
       "      <td>0.000000</td>\n",
       "      <td>0.000000</td>\n",
       "      <td>0.0</td>\n",
       "      <td>3.000000</td>\n",
       "      <td>4.000000</td>\n",
       "      <td>0.000000</td>\n",
       "      <td>3.000000</td>\n",
       "      <td>2.000000</td>\n",
       "      <td>0.000000</td>\n",
       "    </tr>\n",
       "    <tr>\n",
       "      <th>25%</th>\n",
       "      <td>0.000000</td>\n",
       "      <td>1.00000</td>\n",
       "      <td>1.000000</td>\n",
       "      <td>10.000000</td>\n",
       "      <td>1.000000</td>\n",
       "      <td>1.000000</td>\n",
       "      <td>1.000000</td>\n",
       "      <td>5.000000</td>\n",
       "      <td>6.000000</td>\n",
       "      <td>3.000000</td>\n",
       "      <td>...</td>\n",
       "      <td>2.000000</td>\n",
       "      <td>3.000000</td>\n",
       "      <td>3.000000</td>\n",
       "      <td>0.0</td>\n",
       "      <td>3.000000</td>\n",
       "      <td>7.000000</td>\n",
       "      <td>0.000000</td>\n",
       "      <td>3.000000</td>\n",
       "      <td>9.000000</td>\n",
       "      <td>10.000000</td>\n",
       "    </tr>\n",
       "    <tr>\n",
       "      <th>50%</th>\n",
       "      <td>16.000000</td>\n",
       "      <td>11.00000</td>\n",
       "      <td>2.000000</td>\n",
       "      <td>12.000000</td>\n",
       "      <td>1.000000</td>\n",
       "      <td>12.000000</td>\n",
       "      <td>1.000000</td>\n",
       "      <td>5.000000</td>\n",
       "      <td>6.000000</td>\n",
       "      <td>6.000000</td>\n",
       "      <td>...</td>\n",
       "      <td>2.000000</td>\n",
       "      <td>3.000000</td>\n",
       "      <td>3.000000</td>\n",
       "      <td>0.0</td>\n",
       "      <td>3.000000</td>\n",
       "      <td>7.000000</td>\n",
       "      <td>16.000000</td>\n",
       "      <td>8.000000</td>\n",
       "      <td>9.000000</td>\n",
       "      <td>17.000000</td>\n",
       "    </tr>\n",
       "    <tr>\n",
       "      <th>75%</th>\n",
       "      <td>16.000000</td>\n",
       "      <td>11.00000</td>\n",
       "      <td>13.000000</td>\n",
       "      <td>13.000000</td>\n",
       "      <td>4.000000</td>\n",
       "      <td>12.000000</td>\n",
       "      <td>1.000000</td>\n",
       "      <td>5.000000</td>\n",
       "      <td>12.000000</td>\n",
       "      <td>12.000000</td>\n",
       "      <td>...</td>\n",
       "      <td>15.000000</td>\n",
       "      <td>3.000000</td>\n",
       "      <td>3.000000</td>\n",
       "      <td>0.0</td>\n",
       "      <td>3.000000</td>\n",
       "      <td>7.000000</td>\n",
       "      <td>16.000000</td>\n",
       "      <td>13.000000</td>\n",
       "      <td>13.000000</td>\n",
       "      <td>17.000000</td>\n",
       "    </tr>\n",
       "    <tr>\n",
       "      <th>max</th>\n",
       "      <td>16.000000</td>\n",
       "      <td>15.00000</td>\n",
       "      <td>13.000000</td>\n",
       "      <td>22.000000</td>\n",
       "      <td>4.000000</td>\n",
       "      <td>20.000000</td>\n",
       "      <td>20.000000</td>\n",
       "      <td>5.000000</td>\n",
       "      <td>12.000000</td>\n",
       "      <td>22.000000</td>\n",
       "      <td>...</td>\n",
       "      <td>15.000000</td>\n",
       "      <td>16.000000</td>\n",
       "      <td>16.000000</td>\n",
       "      <td>0.0</td>\n",
       "      <td>13.000000</td>\n",
       "      <td>12.000000</td>\n",
       "      <td>18.000000</td>\n",
       "      <td>22.000000</td>\n",
       "      <td>20.000000</td>\n",
       "      <td>22.000000</td>\n",
       "    </tr>\n",
       "  </tbody>\n",
       "</table>\n",
       "<p>8 rows × 23 columns</p>\n",
       "</div>"
      ],
      "text/plain": [
       "             class   cap-shape  cap-surface    cap-color      bruises  \\\n",
       "count  7006.000000  7006.00000  7006.000000  7006.000000  7006.000000   \n",
       "mean      8.299172     7.20197     6.126891    10.926777     2.242221   \n",
       "std       7.994975     5.28820     5.637620     4.159274     1.477789   \n",
       "min       0.000000     1.00000     1.000000     0.000000     1.000000   \n",
       "25%       0.000000     1.00000     1.000000    10.000000     1.000000   \n",
       "50%      16.000000    11.00000     2.000000    12.000000     1.000000   \n",
       "75%      16.000000    11.00000    13.000000    13.000000     4.000000   \n",
       "max      16.000000    15.00000    13.000000    22.000000     4.000000   \n",
       "\n",
       "              odor  gill-attachment  gill-spacing    gill-size   gill-color  \\\n",
       "count  7006.000000      7006.000000   7006.000000  7006.000000  7006.000000   \n",
       "mean      8.586069         1.507137      4.673994     7.841279     7.451470   \n",
       "std       6.213333         3.062638      0.738790     2.767392     5.886737   \n",
       "min       0.000000         1.000000      3.000000     6.000000     0.000000   \n",
       "25%       1.000000         1.000000      5.000000     6.000000     3.000000   \n",
       "50%      12.000000         1.000000      5.000000     6.000000     6.000000   \n",
       "75%      12.000000         1.000000      5.000000    12.000000    12.000000   \n",
       "max      20.000000        20.000000      5.000000    12.000000    22.000000   \n",
       "\n",
       "       ...  stalk-surface-below-ring  stalk-color-above-ring  \\\n",
       "count  ...               7006.000000             7006.000000   \n",
       "mean   ...                  6.000000                3.735084   \n",
       "std    ...                  6.026399                3.525178   \n",
       "min    ...                  1.000000                0.000000   \n",
       "25%    ...                  2.000000                3.000000   \n",
       "50%    ...                  2.000000                3.000000   \n",
       "75%    ...                 15.000000                3.000000   \n",
       "max    ...                 15.000000               16.000000   \n",
       "\n",
       "       stalk-color-below-ring  veil-type   veil-color  ring-number  \\\n",
       "count             7006.000000     7006.0  7006.000000  7006.000000   \n",
       "mean                 3.822295        0.0     3.164145     6.802598   \n",
       "std                  3.637966        0.0     1.102928     0.861252   \n",
       "min                  0.000000        0.0     3.000000     4.000000   \n",
       "25%                  3.000000        0.0     3.000000     7.000000   \n",
       "50%                  3.000000        0.0     3.000000     7.000000   \n",
       "75%                  3.000000        0.0     3.000000     7.000000   \n",
       "max                 16.000000        0.0    13.000000    12.000000   \n",
       "\n",
       "         ring-type  spore-print-color   population      habitat  \n",
       "count  7006.000000        7006.000000  7006.000000  7006.000000  \n",
       "mean      8.418213           9.328433     9.278618    12.830717  \n",
       "std       8.326858           4.852592     4.202989     6.485444  \n",
       "min       0.000000           3.000000     2.000000     0.000000  \n",
       "25%       0.000000           3.000000     9.000000    10.000000  \n",
       "50%      16.000000           8.000000     9.000000    17.000000  \n",
       "75%      16.000000          13.000000    13.000000    17.000000  \n",
       "max      18.000000          22.000000    20.000000    22.000000  \n",
       "\n",
       "[8 rows x 23 columns]"
      ]
     },
     "execution_count": 45,
     "metadata": {},
     "output_type": "execute_result"
    }
   ],
   "source": [
    "df.describe()"
   ]
  },
  {
   "cell_type": "code",
   "execution_count": 46,
   "id": "35db7b71",
   "metadata": {},
   "outputs": [
    {
     "data": {
      "text/plain": [
       "<seaborn.axisgrid.FacetGrid at 0x1d917f3e4f0>"
      ]
     },
     "execution_count": 46,
     "metadata": {},
     "output_type": "execute_result"
    },
    {
     "data": {
      "image/png": "[encoded data removed]",
      "text/plain": [
       "<Figure size 360x360 with 1 Axes>"
      ]
     },
     "metadata": {
      "needs_background": "light"
     },
     "output_type": "display_data"
    }
   ],
   "source": [
    "import seaborn as sns\n",
    "sns.relplot(x='habitat', y='class', data=df)"
   ]
  },
  {
   "cell_type": "code",
   "execution_count": 47,
   "id": "4d5b1d8b",
   "metadata": {},
   "outputs": [],
   "source": [
    "#Création du premier modèle\n",
    "train = df.drop(['class'], axis=1)\n",
    "test = df['class']\n",
    "X_train, X_test, y_train, y_test = train_test_split(train, test , test_size=0.3, random_state=2)\n",
    "reg = LinearRegression()\n",
    "reg.fit(X_train,y_train)\n",
    "pred = reg.predict(X_test)\n",
    "tab_test = [ 'p' if x > 8 else 'e' for x in pred ]\n",
    "result = pd.DataFrame(data=tab_test)\n",
    "result\n",
    "importance = reg.coef_"
   ]
  },
  {
   "cell_type": "code",
   "execution_count": 48,
   "id": "4679bfca",
   "metadata": {},
   "outputs": [
    {
     "data": {
      "text/plain": [
       "0.8741324645714298"
      ]
     },
     "execution_count": 48,
     "metadata": {},
     "output_type": "execute_result"
    }
   ],
   "source": [
    "reg.score(X_test, y_test)"
   ]
  },
  {
   "cell_type": "code",
   "execution_count": 49,
   "id": "b9cb2897",
   "metadata": {},
   "outputs": [
    {
     "data": {
      "image/png": "[encoded data removed]",
      "text/plain": [
       "<Figure size 432x288 with 1 Axes>"
      ]
     },
     "metadata": {
      "needs_background": "light"
     },
     "output_type": "display_data"
    },
    {
     "data": {
      "text/plain": [
       "[[-2.011478736287834, 'gill-spacing'],\n",
       " [-1.0156843594454097, 'gill-size'],\n",
       " [-0.7056434693417226, 'ring-number'],\n",
       " [-0.18977128467143925, 'ring-type'],\n",
       " [-0.15249883809468182, 'stalk-surface-below-ring'],\n",
       " [-0.0979649124203786, 'stalk-surface-above-ring'],\n",
       " [-0.0907389637845339, 'stalk-shape'],\n",
       " [-0.05330053607022502, 'gill-attachment'],\n",
       " [-6.855627177060342e-15, 'veil-type'],\n",
       " [0.007693879294231982, 'cap-shape'],\n",
       " [0.013407869316700793, 'cap-surface'],\n",
       " [0.0309758323885806, 'habitat'],\n",
       " [0.033530057454891946, 'gill-color'],\n",
       " [0.04475679363747359, 'spore-print-color'],\n",
       " [0.09447086959440658, 'stalk-color-above-ring'],\n",
       " [0.12928960168269402, 'population'],\n",
       " [0.1365485785087721, 'stalk-color-below-ring'],\n",
       " [0.15462645150648444, 'bruises'],\n",
       " [0.2281126833426388, 'stalk-root'],\n",
       " [0.2312830077819287, 'veil-color'],\n",
       " [0.23808657705308142, 'cap-color'],\n",
       " [0.5419463853428441, 'odor']]"
      ]
     },
     "execution_count": 49,
     "metadata": {},
     "output_type": "execute_result"
    }
   ],
   "source": [
    "plt.bar([x for x in range(len(importance))], importance)\n",
    "plt.show()\n",
    "sorted([[reg.coef_[i], train.columns[i]] for i in range(len(reg.coef_))])"
   ]
  },
  {
   "cell_type": "code",
   "execution_count": 50,
   "id": "1a49dd13",
   "metadata": {},
   "outputs": [],
   "source": [
    "train = df.drop(['class','odor','cap-color','gill-spacing','gill-size','ring-number','ring-type'], axis=1)\n",
    "test = df['class']\n",
    "X_train, X_test, y_train, y_test = train_test_split(train, test , test_size=0.3, random_state=2)\n",
    "reg = LinearRegression()\n",
    "reg.fit(X_train,y_train)\n",
    "pred = reg.predict(X_test)\n",
    "tab_test = [ 'p' if x > 8 else 'e' for x in pred ]\n",
    "result = pd.DataFrame(data=tab_test)"
   ]
  },
  {
   "cell_type": "code",
   "execution_count": 51,
   "id": "1f8720cf",
   "metadata": {},
   "outputs": [
    {
     "data": {
      "text/plain": [
       "0.5346461667439827"
      ]
     },
     "execution_count": 51,
     "metadata": {},
     "output_type": "execute_result"
    }
   ],
   "source": [
    "reg.score(X_test, y_test)"
   ]
  },
  {
   "cell_type": "code",
   "execution_count": 16,
   "id": "4abe06fc",
   "metadata": {},
   "outputs": [],
   "source": [
    "###########################Deuxième modèle############################"
   ]
  },
  {
   "cell_type": "code",
   "execution_count": 35,
   "id": "e7b9f06c",
   "metadata": {
    "scrolled": true
   },
   "outputs": [
    {
     "data": {
      "text/plain": [
       "RandomForestClassifier(max_depth=2, random_state=0)"
      ]
     },
     "execution_count": 35,
     "metadata": {},
     "output_type": "execute_result"
    }
   ],
   "source": [
    "train = df.drop(['class'], axis=1)\n",
    "test = df['class']\n",
    "X_train, X_test, y_train, y_test = train_test_split(train, test , test_size=0.3, random_state=2)\n",
    "X, y = make_classification(n_samples=1000, n_features=4,n_informative=2, n_redundant=0,random_state=0, shuffle=False)\n",
    "clf = RandomForestClassifier(max_depth=2, random_state=0)\n",
    "clf.fit(X_train,y_train)"
   ]
  },
  {
   "cell_type": "code",
   "execution_count": 36,
   "id": "ad4c3554",
   "metadata": {},
   "outputs": [
    {
     "name": "stdout",
     "output_type": "stream",
     "text": [
      "      0\n",
      "0     p\n",
      "1     e\n",
      "2     e\n",
      "3     p\n",
      "4     e\n",
      "...  ..\n",
      "2097  e\n",
      "2098  p\n",
      "2099  p\n",
      "2100  p\n",
      "2101  e\n",
      "\n",
      "[2102 rows x 1 columns]\n"
     ]
    }
   ],
   "source": [
    "pred_3 = clf.predict(X_test)\n",
    "tab_test = [ 'p' if x > 8 else 'e' for x in pred_3 ]\n",
    "result = pd.DataFrame(data=tab_test)\n",
    "print(result)"
   ]
  },
  {
   "cell_type": "code",
   "execution_count": 37,
   "id": "a3b1014c",
   "metadata": {},
   "outputs": [
    {
     "data": {
      "text/plain": [
       "0.9900095147478591"
      ]
     },
     "execution_count": 37,
     "metadata": {},
     "output_type": "execute_result"
    }
   ],
   "source": [
    "clf.score(X_test, y_test)"
   ]
  },
  {
   "cell_type": "code",
   "execution_count": 38,
   "id": "38e12954",
   "metadata": {},
   "outputs": [
    {
     "data": {
      "text/plain": [
       "<BarContainer object of 22 artists>"
      ]
     },
     "execution_count": 38,
     "metadata": {},
     "output_type": "execute_result"
    },
    {
     "data": {
      "image/png": "[encoded data removed]",
      "text/plain": [
       "<Figure size 432x288 with 1 Axes>"
      ]
     },
     "metadata": {
      "needs_background": "light"
     },
     "output_type": "display_data"
    }
   ],
   "source": [
    "plt.barh(np.array(list(train.columns)), clf.feature_importances_)"
   ]
  },
  {
   "cell_type": "code",
   "execution_count": 63,
   "id": "582a0fa1",
   "metadata": {},
   "outputs": [
    {
     "data": {
      "text/plain": [
       "RandomForestClassifier(max_depth=2, random_state=0)"
      ]
     },
     "execution_count": 63,
     "metadata": {},
     "output_type": "execute_result"
    }
   ],
   "source": [
    "train = df.drop(['class','odor','gill-spacing'], axis=1)\n",
    "test = df['class']\n",
    "X_train, X_test, y_train, y_test = train_test_split(train, test , test_size=0.3, random_state=2)\n",
    "X, y = make_classification(n_samples=1000, n_features=4,n_informative=2, n_redundant=0,random_state=0, shuffle=False)\n",
    "clf = RandomForestClassifier(max_depth=2, random_state=0, n_estimators=100)\n",
    "clf.fit(X_train,y_train)"
   ]
  },
  {
   "cell_type": "code",
   "execution_count": 64,
   "id": "b26549f6",
   "metadata": {},
   "outputs": [
    {
     "data": {
      "text/plain": [
       "0.8862987630827783"
      ]
     },
     "execution_count": 64,
     "metadata": {},
     "output_type": "execute_result"
    }
   ],
   "source": [
    "clf.score(X_test, y_test)"
   ]
  },
  {
   "cell_type": "code",
   "execution_count": 11,
   "id": "f5eb15a1",
   "metadata": {},
   "outputs": [],
   "source": [
    "###########################Troisième modèle############################"
   ]
  },
  {
   "cell_type": "code",
   "execution_count": 53,
   "id": "fa70ddd6",
   "metadata": {},
   "outputs": [
    {
     "data": {
      "text/plain": [
       "KNeighborsClassifier(n_neighbors=11)"
      ]
     },
     "execution_count": 53,
     "metadata": {},
     "output_type": "execute_result"
    }
   ],
   "source": [
    "train = df.drop(['class'], axis=1)\n",
    "test = df['class']\n",
    "X_train, X_test, y_train, y_test = train_test_split(train, test , test_size=0.3, random_state=2)\n",
    "neigh = KNeighborsClassifier(n_neighbors=11)\n",
    "neigh.fit(X_train,y_train)"
   ]
  },
  {
   "cell_type": "code",
   "execution_count": 54,
   "id": "ea3d6144",
   "metadata": {},
   "outputs": [
    {
     "name": "stdout",
     "output_type": "stream",
     "text": [
      "      0\n",
      "0     p\n",
      "1     e\n",
      "2     e\n",
      "3     p\n",
      "4     e\n",
      "...  ..\n",
      "2097  e\n",
      "2098  p\n",
      "2099  p\n",
      "2100  p\n",
      "2101  e\n",
      "\n",
      "[2102 rows x 1 columns]\n"
     ]
    },
    {
     "data": {
      "text/plain": [
       "0.9990485252140818"
      ]
     },
     "execution_count": 54,
     "metadata": {},
     "output_type": "execute_result"
    }
   ],
   "source": [
    "pred_2 = neigh.predict(X_test)\n",
    "tab_test = [ 'p' if x > 8 else 'e' for x in pred_2 ]\n",
    "result = pd.DataFrame(data=tab_test)\n",
    "print(result)\n",
    "neigh.score(X_test, y_test)"
   ]
  },
  {
   "cell_type": "code",
   "execution_count": 65,
   "id": "317c372b",
   "metadata": {},
   "outputs": [
    {
     "data": {
      "text/plain": [
       "KNeighborsClassifier(n_neighbors=11)"
      ]
     },
     "execution_count": 65,
     "metadata": {},
     "output_type": "execute_result"
    }
   ],
   "source": [
    "train = df.drop(['class','odor','spore-print-color'], axis=1)\n",
    "test = df['class']\n",
    "X_train, X_test, y_train, y_test = train_test_split(train, test , test_size=0.3, random_state=2)\n",
    "neigh = KNeighborsClassifier(n_neighbors=11)\n",
    "neigh.fit(X_train,y_train)"
   ]
  },
  {
   "cell_type": "code",
   "execution_count": 66,
   "id": "0e94cd06",
   "metadata": {},
   "outputs": [
    {
     "name": "stdout",
     "output_type": "stream",
     "text": [
      "<bound method KNeighborsMixin.kneighbors_graph of KNeighborsClassifier(n_neighbors=11)>\n",
      "      0\n",
      "0     p\n",
      "1     e\n",
      "2     e\n",
      "3     p\n",
      "4     e\n",
      "...  ..\n",
      "2097  e\n",
      "2098  p\n",
      "2099  p\n",
      "2100  p\n",
      "2101  e\n",
      "\n",
      "[2102 rows x 1 columns]\n"
     ]
    },
    {
     "data": {
      "text/plain": [
       "0.989058039961941"
      ]
     },
     "execution_count": 66,
     "metadata": {},
     "output_type": "execute_result"
    }
   ],
   "source": [
    "pred_2 = neigh.predict(X_test)\n",
    "print(neigh.kneighbors_graph)\n",
    "tab_test = [ 'p' if x > 8 else 'e' for x in pred_2 ]\n",
    "result = pd.DataFrame(data=tab_test)\n",
    "print(result)\n",
    "neigh.score(X_test, y_test)"
   ]
  },
  {
   "cell_type": "code",
   "execution_count": null,
   "id": "81e5f221",
   "metadata": {},
   "outputs": [],
   "source": []
  }
 ],
 "metadata": {
  "kernelspec": {
   "display_name": "Python 3",
   "language": "python",
   "name": "python3"
  },
  "language_info": {
   "codemirror_mode": {
    "name": "ipython",
    "version": 3
   },
   "file_extension": ".py",
   "mimetype": "text/x-python",
   "name": "python",
   "nbconvert_exporter": "python",
   "pygments_lexer": "ipython3",
   "version": "3.8.8"
  }
 },
 "nbformat": 4,
 "nbformat_minor": 5
}
